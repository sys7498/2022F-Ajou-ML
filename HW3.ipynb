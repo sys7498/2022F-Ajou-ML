{
  "cells": [
    {
      "cell_type": "markdown",
      "metadata": {
        "id": "view-in-github",
        "colab_type": "text"
      },
      "source": [
        "<a href=\"https://colab.research.google.com/github/sys7498/2022F-Ajou-ML/blob/main/HW3.ipynb\" target=\"_parent\"><img src=\"https://colab.research.google.com/assets/colab-badge.svg\" alt=\"Open In Colab\"/></a>"
      ]
    },
    {
      "cell_type": "markdown",
      "metadata": {
        "id": "m1rbIpJvJD_m"
      },
      "source": [
        "# **HW3 :: Parameter Tuning and Classifcation**"
      ]
    },
    {
      "cell_type": "markdown",
      "metadata": {
        "id": "6c34x6aJI_kE"
      },
      "source": [
        "## 코랩과 구글 드라이브 연동 OR 로컬에서 파일 업로드\n",
        "- 해당 섹션 코드 수정 가능"
      ]
    },
    {
      "cell_type": "code",
      "execution_count": null,
      "metadata": {
        "id": "PLXjmIbsJMlk"
      },
      "outputs": [],
      "source": [
        "# 연동 OR 파일 업로드\n",
        "# 연동 시 path 설정 주의"
      ]
    },
    {
      "cell_type": "code",
      "execution_count": null,
      "metadata": {
        "id": "4VXRY6hDJ60i"
      },
      "outputs": [],
      "source": [
        "from google.colab import drive\n",
        "drive.mount('/content/drive')"
      ]
    },
    {
      "cell_type": "markdown",
      "metadata": {
        "id": "HR6Kw9YhJV8A"
      },
      "source": [
        "## 데이터 불러오기"
      ]
    },
    {
      "cell_type": "code",
      "execution_count": null,
      "metadata": {
        "id": "29BsCuUtKjKA"
      },
      "outputs": [],
      "source": [
        "import numpy as np\n",
        "import pandas as pd"
      ]
    },
    {
      "cell_type": "code",
      "execution_count": null,
      "metadata": {
        "id": "e6BsnGgg4Zle"
      },
      "outputs": [],
      "source": [
        "df = pd.read_csv('airline_sampled2.csv') \n",
        "# HW1에서 사용한 데이터를 샘플링한 파일이므로 꼭 제공된 csv 파일을 사용할 것"
      ]
    },
    {
      "cell_type": "code",
      "execution_count": null,
      "metadata": {
        "id": "XyXXUUUv4Zlf"
      },
      "outputs": [],
      "source": [
        "df.head()"
      ]
    },
    {
      "cell_type": "markdown",
      "metadata": {
        "id": "fZDTxR6wKuPO"
      },
      "source": [
        "## 데이터 나누기"
      ]
    },
    {
      "cell_type": "markdown",
      "metadata": {
        "id": "h5enxbYKbAhW"
      },
      "source": [
        "### **주의 사항**\n",
        "train_test_split에 random seed를 사용하여 split set을 고정한다.\n",
        "- 모든 문제에 같은 random seed를 부여할 필요는 없다.\n"
      ]
    },
    {
      "cell_type": "code",
      "execution_count": null,
      "metadata": {
        "id": "V1zQHUKdKWFz"
      },
      "outputs": [],
      "source": [
        "from sklearn.model_selection import train_test_split\n",
        "\n",
        "X = df.drop('satisfaction', axis=1)\n",
        "y = df['satisfaction']\n",
        "y=y.astype('int')\n",
        "  \n",
        "X_train, X_test, y_train, y_test = train_test_split(X, y, test_size=0.1)\n",
        "X_train, X_val, y_train, y_val = train_test_split(X_train, y_train, test_size=1/9)\n",
        "\n",
        "print(\"X_train's shape : \", X_train.shape)\n",
        "print(\"y_train's shape : \", y_train.shape)\n",
        "print(\"\\nX_val's shape : \", X_val.shape)\n",
        "print(\"y_val's shape : \", y_val.shape)\n",
        "print(\"\\nX_test's shape : \", X_test.shape)\n",
        "print(\"y_test's shape : \", y_test.shape)"
      ]
    },
    {
      "cell_type": "markdown",
      "metadata": {
        "id": "P5Gr-LZOLCSP"
      },
      "source": [
        "## 문제1 KNN\n",
        "\n",
        "\n",
        "\n",
        "- Scikit-learn 라이브러리를 이용하여 KNN의 최적의 파라미터를 찾는다.\n",
        "    - 최근접 이웃을 찾기 위한 거리의 종류로 최소한 두 가지 이상의 거리 척도를 사용한다.\n",
        "    - K값을 최소 3개 이상 비교한다.\n",
        "    - 거리 척도, k값에 따라 train, validation 정확도를 한 그래프로 그린다.(x축 k값, y축 정확도)\n",
        "    - 찾은 최적의 파라미터와 test set 이용하여 test_accuracy 계산하고 기입한다.\n",
        "    - 최적의 파라미터를 찾은 것에 대한 설명을 '텍스트 셀'에 작성한다.\n",
        "\n"
      ]
    },
    {
      "cell_type": "code",
      "execution_count": null,
      "metadata": {
        "id": "vVbdK0ERLSq6"
      },
      "outputs": [],
      "source": [
        "from sklearn.neighbors import KNeighborsClassifier\n",
        "from sklearn import metrics\n",
        "import matplotlib.pyplot as plt"
      ]
    },
    {
      "cell_type": "code",
      "execution_count": null,
      "metadata": {
        "id": "ME76ne9cdSMa"
      },
      "outputs": [],
      "source": [
        "### 문제 1 ###\n",
        "### 코드 작성 ###"
      ]
    },
    {
      "cell_type": "markdown",
      "metadata": {
        "id": "8-BMEqCFdfsR"
      },
      "source": [
        "**설명 작성**  \n",
        "- 최적의 파라미터:\n",
        "- 설명:"
      ]
    },
    {
      "cell_type": "markdown",
      "metadata": {
        "id": "mZkD2D1i4Zli"
      },
      "source": [
        "---"
      ]
    },
    {
      "cell_type": "markdown",
      "metadata": {
        "id": "7OMvtg924Zli"
      },
      "source": [
        "## 문제2 Random Forest\n",
        "\n",
        "\n",
        "- Scikit-learn 라이브러리를 이용하여 Random Forest의 최적의 파라미터를 찾는다.\n",
        "    - Criterion 중 최소 두개를 비교한다.\n",
        "    - 최적의 파라미터 max depth 값을 찾는다.\n",
        "    - 파라미터에 따라 train, validation 정확도를 한 그래프로 그린다.(x축 max depth 값, y축 정확도)\n",
        "    - 찾은 최적의 파라미터와 test set을 이용하여 test accuracy를 계산하고 기입한다.\n",
        "    - 최적의 파라미터를 찾은 것에 대한 설명을 '텍스트 셀'에 작성한다."
      ]
    },
    {
      "cell_type": "code",
      "execution_count": null,
      "metadata": {
        "id": "IttBH6C94Zli"
      },
      "outputs": [],
      "source": [
        "from sklearn.ensemble import RandomForestClassifier"
      ]
    },
    {
      "cell_type": "code",
      "execution_count": null,
      "metadata": {
        "id": "C153cWxK4Zli"
      },
      "outputs": [],
      "source": [
        "### 문제 2 ###\n",
        "### 코드 작성 ###"
      ]
    },
    {
      "cell_type": "markdown",
      "metadata": {
        "id": "s4r40Dbu4Zli"
      },
      "source": [
        "**설명 작성**  \n",
        "- 최적의 파라미터:\n",
        "- 설명:"
      ]
    },
    {
      "cell_type": "markdown",
      "metadata": {
        "id": "KvjjbqDB4Zli"
      },
      "source": [
        "---"
      ]
    },
    {
      "cell_type": "markdown",
      "metadata": {
        "id": "cl1b3f3AaZUw"
      },
      "source": [
        "## 문제3 Cross validation with Linear SVM\n",
        "### 3-1: k-fold\n",
        "- 수업시간에 배운 **5-fold** 를 이용하여 최적의 파라미터를 찾는다. (데이터는 동일)\n",
        "- 수업시간에 배운 linear SVM 모델의 파라미터 C를 cross-validation을 바탕으로 최적화한다.\n",
        "    - **5-fold CV를 할 때, test data를 제외한 90%의 데이터를 사용해야한다.**\n",
        "    - 파라미터에 따라 K-fold CV를 통해 나온 평균 정확도와 각 fold의 정확도들을 한 그래프로 그린다.(x축 선택한 파라미터, y축 정확도)\n",
        "    - 찾은 최적의 파라미터와 test set을 이용하여 test accuracy를 계산하고 기입한다.\n",
        "    - 최적의 파라미터를 찾은 것에 대한 설명을 '텍스트 셀'에 작성한다.\n",
        "\n",
        "### 3-2: Leave One Out\n",
        "- 수업시간에 배운 Leave-One-Out 를 이용하여 최적의 파라미터를 찾는다. (데이터는 동일)\n",
        "- 수업시간에 배운 linear SVM 모델의 파라미터 C를 cross-validation을 바탕으로 최적화한다.\n",
        "  - **Leave-One-Out CV를 할 때, test data를 제외한 90%의 데이터를 사용해야한다.**\n",
        "  - 파라미터에 따라 Leave-One-Out CV를 통해 나온 평균 정확도를 그래프로 그린다.(x축 선택한 파라미터, y축 정확도)\n",
        "  - 찾은 최적의 파라미터와 test set을 이용하여 test accuracy를 계산하고 기입한다.\n",
        "  - 최적의 파라미터를 찾은 것에 대한 설명을 '텍스트 셀'에 작성한다."
      ]
    },
    {
      "cell_type": "code",
      "execution_count": null,
      "metadata": {
        "id": "fYNny36efEF3"
      },
      "outputs": [],
      "source": [
        "### 문제 3-1 ###\n",
        "### 코드 작성 ###"
      ]
    },
    {
      "cell_type": "markdown",
      "metadata": {
        "id": "2xvEdCHAfH0g"
      },
      "source": [
        "**설명 작성**  \n",
        "- 최적의 파라미터:\n",
        "- 설명:"
      ]
    },
    {
      "cell_type": "code",
      "execution_count": null,
      "metadata": {
        "id": "80a5iRmvfG6H"
      },
      "outputs": [],
      "source": [
        "### 문제 3-2 ###\n",
        "### 코드 작성 ###"
      ]
    },
    {
      "cell_type": "markdown",
      "metadata": {
        "id": "m9BqByTFfLIG"
      },
      "source": [
        "**설명 작성**  \n",
        "- 최적의 파라미터:\n",
        "- 설명:"
      ]
    },
    {
      "cell_type": "markdown",
      "metadata": {
        "id": "qUzl5Lcz4Zlj"
      },
      "source": [
        "---"
      ]
    },
    {
      "cell_type": "markdown",
      "metadata": {
        "id": "szX5GgcXfnM1"
      },
      "source": [
        "## 문제4 Regression\n",
        "문제 4 에서는 캘리포니아 주택 가격 데이터셋을 사용합니다.   \n",
        "학습을 통해 주택 가격을 예측하는 문제입니다.  \n",
        "데이터에 대한 자세한 설명은 아래 코드의 description을 참고해주세요."
      ]
    },
    {
      "cell_type": "code",
      "execution_count": null,
      "metadata": {
        "id": "Gwwkd_GO4Zlj"
      },
      "outputs": [],
      "source": [
        "from sklearn.datasets import fetch_california_housing\n",
        "housing = fetch_california_housing()\n",
        "print(housing.DESCR)"
      ]
    },
    {
      "cell_type": "code",
      "execution_count": null,
      "metadata": {
        "id": "beqDbNzQi0PR"
      },
      "outputs": [],
      "source": [
        "df = pd.DataFrame(housing.data, columns=housing.feature_names)\n",
        "df['target'] = housing.target"
      ]
    },
    {
      "cell_type": "code",
      "execution_count": null,
      "metadata": {
        "id": "Y-4fgqWCkd-o"
      },
      "outputs": [],
      "source": [
        "print(df.head())"
      ]
    },
    {
      "cell_type": "code",
      "execution_count": null,
      "metadata": {
        "id": "zoUn3ZXdkimJ"
      },
      "outputs": [],
      "source": [
        "print(df.shape) #(20640, 9)\n",
        "print(df.describe())"
      ]
    },
    {
      "cell_type": "markdown",
      "metadata": {
        "id": "3U8somVc4Zlk"
      },
      "source": [
        "### 문제 4-1 : Adjusted R2 Score\n",
        "- sklearn.metrics 패키지를 사용하여 ```def adjr2```에 Adjusted R2 Score를 구하는 함수를 작성한다.\n",
        "- ```def r2```를 사용하여 ```adjr2```를 구현한다.\n",
        "- 코드 작성 영역 이외의 코드를 수정하지 않는다.\n",
        "- 주어진 함수 파라미터를 사용하여 구현한다."
      ]
    },
    {
      "cell_type": "code",
      "execution_count": null,
      "metadata": {
        "id": "JbGUADBK4Zlk"
      },
      "outputs": [],
      "source": [
        "from sklearn.metrics import r2_score"
      ]
    },
    {
      "cell_type": "code",
      "execution_count": null,
      "metadata": {
        "id": "WvqWUQl24Zlk"
      },
      "outputs": [],
      "source": [
        "import numpy as np\n",
        "\n",
        "def r2(actual, predicted):\n",
        "    \"\"\" R2 Score \"\"\"\n",
        "    return r2_score(actual, predicted)\n",
        "\n",
        "###################################\n",
        "def adjr2(actual, predicted, rowcount, featurecount):\n",
        "############ 문제 4-1 ##############\n",
        "    \"\"\" Adjusted R2 Score \"\"\"\n",
        "\n",
        "####################################\n",
        "####################################"
      ]
    },
    {
      "cell_type": "markdown",
      "metadata": {
        "id": "P-6ZikyP4Zlk"
      },
      "source": [
        "### 문제 4-2 : Feature Selection\n",
        "- sklearn 패키지를 사용하여 feature selection을 수행하는 함수 ```forward_selection```을 구현한다.\n",
        "- Linear Regressor 을 사용하여 feature selection이 어떻게 달라지는 지 관찰한다.\n",
        "- 코드 작성 영역 이외의 코드를 수정하지 않는다.\n",
        "- 주어진 변수들, 자료들을 최대한 활용하여 코드를 작성한다."
      ]
    },
    {
      "cell_type": "code",
      "execution_count": null,
      "metadata": {
        "id": "WjqDsXSA4Zlk"
      },
      "outputs": [],
      "source": [
        "from sklearn.linear_model import LinearRegression\n",
        "import pandas as pd"
      ]
    },
    {
      "cell_type": "code",
      "execution_count": null,
      "metadata": {
        "id": "oUf_G0iF4Zlk"
      },
      "outputs": [],
      "source": [
        "X = df.drop(columns=['target'])\n",
        "y = df['target']\n",
        "y=y.astype('int')\n",
        "print(X.shape)\n",
        "print(y.shape)"
      ]
    },
    {
      "cell_type": "code",
      "execution_count": null,
      "metadata": {
        "collapsed": true,
        "id": "tAQiA64x4Zlk"
      },
      "outputs": [],
      "source": [
        "def forward_selection(X, y): # X: train data, y: train data's target\n",
        "    initial_list = []\n",
        "    included = list(initial_list) # 포함되어야 하는 feature\n",
        "    best_r2 = 0 # 가장 높은 r2 score를 저장\n",
        "\n",
        "    while True:\n",
        "\n",
        "        changed = False # while 문을 빠져나가는 조건으로 활용\n",
        "        excluded = list(set(X.columns)-set(included)) # included list에 없는 column names 저장하는 리스트\n",
        "        new_scores = dict.fromkeys(excluded)\n",
        "\n",
        "        for new_column in excluded:\n",
        "            \n",
        "            model = LinearRegression()\n",
        "\n",
        "            ###########################################\n",
        "            ###### 코드 작성 영역 외 수정 하지 말 것 #########\n",
        "            ################ 문제 4-2 ##################\n",
        "\n",
        "\n",
        "\n",
        "\n",
        "        ##############################################\n",
        "        ##############################################\n",
        " \n",
        "    return included\n",
        "\n",
        "selected_features = forward_selection(X, y)\n",
        "print('selected_features:', selected_features)"
      ]
    },
    {
      "cell_type": "markdown",
      "metadata": {
        "id": "0OGUhsrgEwR_"
      },
      "source": [
        "### 문제 4-3: Regularized Model\n",
        "- Scikit-learn 라이브러리를 사용하여 Ridge Regression과 Lasso Regression 모델을 만든다.\n",
        "- train : validation : test **데이터셋의 비율을 8:1:1**로 설정한다.\n",
        "- 문제 4-1의 **forward selection을 통해 얻은 feature만**을 가진 데이터를 사용한다.\n",
        "- 다양한 alpha 값에 대해 validation dataset을 사용하여 각 모델에 대한 **최적의 alpha 값을 찾고 찾은 최적의 alpha 값을 텍스트 셀에 작성**한다.\n",
        "- alpha 값은 아래의 리스트를 사용한다.  \n",
        "```alpha = [0.0001, 0.001,0.01,0.1,1,10, 100, 1000, 10000, 100000]```\n",
        "- alpha 값에 대한 R2 score의 변화를 그래프로 나타낸다.\n",
        "  * **x축: alpha 값**\n",
        "  * **y축: R2 score 값**\n",
        "  * 파란색 선: Ridge 결과, 빨간색 선: Lasso 결과\n",
        "  * 그래프에 **legend**가 포함되어 있어야 한다. \n",
        "- **train과 validation dataset을 합하여 train set을 만든 후 최종 학습 결과를 도출**한다.\n",
        "  * 최적의 alpha 값을 찾을 때 사용한 test set은 변하지 않는다. \n",
        "  * r2 score를 사용하여 train set에 대한 prediction 결과와 test set에 대한 prediction 결과를 구해 print 한다."
      ]
    },
    {
      "cell_type": "code",
      "execution_count": null,
      "metadata": {
        "id": "NEx72fQh4Zll"
      },
      "outputs": [],
      "source": [
        "from sklearn.linear_model import LinearRegression, Ridge, Lasso\n",
        "from sklearn.metrics import r2_score\n",
        "import numpy as np"
      ]
    },
    {
      "cell_type": "code",
      "execution_count": null,
      "metadata": {
        "id": "2ZJbj9r2Z4LP"
      },
      "outputs": [],
      "source": [
        "### 문제 4-3 ###\n",
        "### 코드 작성 ###"
      ]
    },
    {
      "cell_type": "code",
      "execution_count": null,
      "metadata": {
        "id": "Ym11BIQD4Zll"
      },
      "outputs": [],
      "source": [
        "### 문제 4-3 ###\n",
        "### 그래프 작성 ###"
      ]
    },
    {
      "cell_type": "markdown",
      "metadata": {
        "id": "DS8x1JmkZ6Yl"
      },
      "source": [
        "- Rridge regression 모델 최적의 alpha 값:\n",
        "- Lasso regression 모델 최적의 alpha 값:"
      ]
    },
    {
      "cell_type": "code",
      "execution_count": null,
      "metadata": {
        "id": "zio0ZtfdiXCF"
      },
      "outputs": [],
      "source": [
        "# 최종 결과 출력"
      ]
    }
  ],
  "metadata": {
    "colab": {
      "collapsed_sections": [],
      "provenance": [],
      "include_colab_link": true
    },
    "interpreter": {
      "hash": "72f413c705acf8cc7ca758c5c7ce13adba655409ec2684a2da3bcb9a148f4862"
    },
    "kernelspec": {
      "display_name": "Python 3.8.13 ('aae')",
      "language": "python",
      "name": "python3"
    },
    "language_info": {
      "codemirror_mode": {
        "name": "ipython",
        "version": 3
      },
      "file_extension": ".py",
      "mimetype": "text/x-python",
      "name": "python",
      "nbconvert_exporter": "python",
      "pygments_lexer": "ipython3",
      "version": "3.8.13"
    },
    "vscode": {
      "interpreter": {
        "hash": "4df1aae1e0b0d359ea12b19172edf8042a617e338541b2db12efe6535537db04"
      }
    }
  },
  "nbformat": 4,
  "nbformat_minor": 0
}